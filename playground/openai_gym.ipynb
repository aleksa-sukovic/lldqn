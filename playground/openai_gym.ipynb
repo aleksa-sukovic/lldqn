{
 "cells": [
  {
   "cell_type": "code",
   "execution_count": 1,
   "metadata": {},
   "outputs": [],
   "source": [
    "import gym\n",
    "import pygame\n",
    "from gym.utils.play import play, PlayPlot"
   ]
  },
  {
   "cell_type": "code",
   "execution_count": 3,
   "metadata": {},
   "outputs": [
    {
     "name": "stdout",
     "output_type": "stream",
     "text": [
      "Box(-2.0, 2.0, (1,), float32)\n",
      "Box([-1. -1. -8.], [1. 1. 8.], (3,), float32)\n"
     ]
    },
    {
     "ename": "",
     "evalue": "",
     "output_type": "error",
     "traceback": [
      "\u001b[1;31mThe Kernel crashed while executing code in the the current cell or a previous cell. Please review the code in the cell(s) to identify a possible cause of the failure. Click <a href='https://aka.ms/vscodeJupyterKernelCrash'>here</a> for more info. View Jupyter <a href='command:jupyter.viewOutput'>log</a> for further details."
     ]
    }
   ],
   "source": [
    "# env = gym.make(\"LunarLander-v2\")\n",
    "env = gym.make(\"Pendulum-v1\")\n",
    "env.action_space.seed(42)\n",
    "observation, info = env.reset(seed=42, return_info=True)\n",
    "\n",
    "for _ in range(300):\n",
    "    observation, reward, done, info = env.step(env.action_space.sample())\n",
    "\n",
    "    if done:\n",
    "        observation, info = env.reset(return_info=True)\n",
    "    \n",
    "    env.render()\n",
    "\n",
    "print(env.action_space)\n",
    "print(env.observation_space)\n",
    "\n",
    "env.close()"
   ]
  },
  {
   "cell_type": "code",
   "execution_count": null,
   "metadata": {},
   "outputs": [],
   "source": [
    "mapping = {(pygame.K_LEFT,): 0, (pygame.K_RIGHT,): 1}\n",
    "play(gym.make(\"CartPole-v0\"), keys_to_action=mapping)"
   ]
  }
 ],
 "metadata": {
  "interpreter": {
   "hash": "d65a6f1a700720a1a765500f4e91721edd588ce383c62bcbd4afffb797c3190a"
  },
  "kernelspec": {
   "display_name": "Python 3.9.12 ('lifelong_learning_project')",
   "language": "python",
   "name": "python3"
  },
  "language_info": {
   "codemirror_mode": {
    "name": "ipython",
    "version": 3
   },
   "file_extension": ".py",
   "mimetype": "text/x-python",
   "name": "python",
   "nbconvert_exporter": "python",
   "pygments_lexer": "ipython3",
   "version": "3.9.12"
  },
  "orig_nbformat": 4
 },
 "nbformat": 4,
 "nbformat_minor": 2
}
