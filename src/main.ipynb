{
 "cells": [
  {
   "cell_type": "markdown",
   "metadata": {},
   "source": [
    "# Using invariant representations to guide future exploration\n",
    "\n",
    "I would like to further explore an idea of leveraging abstract concepts learned from previous experiences to help aid and guide the behavior of an agent when faced with a novel problem. The aim is to sequentially construct and expand agent's knowledge base, and use it to construct a behavioral policy that would guide the exploration while learning the optimal policy.\n",
    "\n",
    "## Implementation Plan\n",
    "\n",
    "The following is a rough outline of the implementation plan:\n",
    "- [ ] Allow training of agents via Q-Learning for wide range of tasks. At this stage, the goal is to setup the training framework, logging, metrics and everything you might need. In addition, make sure that the behavioral policy of the Q-Learning agent is swappable.\n",
    "- [ ] Create invariant representation of learned experience. For each new task, first sample tuples of experiences, train an autoencoder network and add that particular task to the knowledge base.\n",
    "- [ ] Create behavioral policy for a new task, from the knowledge base. At this stage, we alter the training process to:\n",
    "  - [ ] Let the agent explore for a limited amount of time.\n",
    "  - [ ] Determine a set of most relevant tasks.\n",
    "  - [ ] Construct a behavior policy from a set of most relevant tasks and integrate it into Q-Learning.\n",
    "- [ ] Lastly, I perform the experiment phase. Here, a carefully selected set of tasks  needs to be run, both individually as a baseline, and then in sequence using the knowledge base. If time permits, running several experiments with differently ordered tasks could be useful to obtain standard deviation."
   ]
  },
  {
   "cell_type": "code",
   "execution_count": 3,
   "metadata": {},
   "outputs": [],
   "source": [
    "import gym"
   ]
  }
 ],
 "metadata": {
  "interpreter": {
   "hash": "d65a6f1a700720a1a765500f4e91721edd588ce383c62bcbd4afffb797c3190a"
  },
  "kernelspec": {
   "display_name": "Python 3.9.12 ('lifelong_learning_project')",
   "language": "python",
   "name": "python3"
  },
  "language_info": {
   "codemirror_mode": {
    "name": "ipython",
    "version": 3
   },
   "file_extension": ".py",
   "mimetype": "text/x-python",
   "name": "python",
   "nbconvert_exporter": "python",
   "pygments_lexer": "ipython3",
   "version": "3.9.12"
  },
  "orig_nbformat": 4
 },
 "nbformat": 4,
 "nbformat_minor": 2
}
