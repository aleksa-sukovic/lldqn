{
 "cells": [
  {
   "cell_type": "markdown",
   "metadata": {},
   "source": [
    "# Using invariant representations to guide future exploration\n",
    "\n",
    "I would like to further explore an idea of leveraging abstract concepts learned from previous experiences to help aid and guide the behavior of an agent when faced with a novel problem. The aim is to sequentially construct and expand agent's knowledge base, and use it to construct a behavioral policy that would guide the exploration while learning the optimal policy."
   ]
  },
  {
   "cell_type": "code",
   "execution_count": 1,
   "metadata": {},
   "outputs": [],
   "source": [
    "import os\n",
    "import sys\n",
    "import wandb\n",
    "import gym_anytrading\n",
    "import matplotlib.pyplot as plt"
   ]
  },
  {
   "cell_type": "code",
   "execution_count": 2,
   "metadata": {},
   "outputs": [],
   "source": [
    "from tianshou.utils import WandbLogger\n",
    "from torch.utils.tensorboard import SummaryWriter"
   ]
  },
  {
   "cell_type": "code",
   "execution_count": 3,
   "metadata": {},
   "outputs": [],
   "source": [
    "if os.path.abspath(os.path.join('.')) not in sys.path:\n",
    "    sys.path.append(os.path.abspath(os.path.join('.')))"
   ]
  },
  {
   "cell_type": "code",
   "execution_count": 4,
   "metadata": {},
   "outputs": [],
   "source": [
    "from models import Task\n",
    "from models.trainer import DQNTrainer\n",
    "from models.network import TradingNetwork"
   ]
  },
  {
   "cell_type": "code",
   "execution_count": 5,
   "metadata": {},
   "outputs": [],
   "source": [
    "df = gym_anytrading.datasets.STOCKS_GOOGL.copy()\n",
    "window_size = 10\n",
    "start_index = window_size\n",
    "end_index = len(df)"
   ]
  },
  {
   "cell_type": "code",
   "execution_count": 7,
   "metadata": {},
   "outputs": [],
   "source": [
    "WANDB_PROJECT = \"lldqn\"\n",
    "WANDB_LOG_DIR = \"./data\"\n",
    "WANDB_TENSORBOARD = \"./data/tensorboard\"\n",
    "TASKS = [\n",
    "    dict(\n",
    "        env_name=\"Stocks-v0\",\n",
    "        env_model=TradingNetwork,\n",
    "        env_args=dict(\n",
    "            df=df,\n",
    "            window_size=window_size,\n",
    "            frame_bound=(start_index, end_index)\n",
    "        ),\n",
    "        save_data_dir=\"./data/models\",\n",
    "        use_baseline=True,\n",
    "        wrappers=[\n",
    "            #\n",
    "        ],\n",
    "    ),\n",
    "]"
   ]
  },
  {
   "cell_type": "code",
   "execution_count": 8,
   "metadata": {},
   "outputs": [
    {
     "name": "stderr",
     "output_type": "stream",
     "text": [
      "/home/aleksa/.pyenv/versions/3.9.6/envs/lifelong_learning/lib/python3.9/site-packages/gym/utils/passive_env_checker.py:69: UserWarning: \u001b[33mWARN: Agent's minimum action space value is -infinity. This is probably too low.\u001b[0m\n",
      "  logger.warn(\n",
      "/home/aleksa/.pyenv/versions/3.9.6/envs/lifelong_learning/lib/python3.9/site-packages/gym/utils/passive_env_checker.py:73: UserWarning: \u001b[33mWARN: Agent's maximum action space value is infinity. This is probably too high\u001b[0m\n",
      "  logger.warn(\n",
      "/home/aleksa/.pyenv/versions/3.9.6/envs/lifelong_learning/lib/python3.9/site-packages/gym/utils/passive_env_checker.py:97: UserWarning: \u001b[33mWARN: We recommend you to use a symmetric and normalized Box action space (range=[-1, 1]) https://stable-baselines3.readthedocs.io/en/master/guide/rl_tips.html\u001b[0m\n",
      "  logger.warn(\n",
      "/home/aleksa/.pyenv/versions/3.9.6/envs/lifelong_learning/lib/python3.9/site-packages/gym/utils/passive_env_checker.py:216: UserWarning: \u001b[33mWARN: Future gym versions will require that `Env.reset` can be passed a `seed` instead of using `Env.seed` for resetting the environment random number generator. \u001b[0m\n",
      "  logger.warn(\n",
      "/home/aleksa/.pyenv/versions/3.9.6/envs/lifelong_learning/lib/python3.9/site-packages/gym/utils/passive_env_checker.py:228: UserWarning: \u001b[33mWARN: Future gym versions will require that `Env.reset` can be passed `return_info` to return information from the environment resetting.\u001b[0m\n",
      "  logger.warn(\n",
      "/home/aleksa/.pyenv/versions/3.9.6/envs/lifelong_learning/lib/python3.9/site-packages/gym/utils/passive_env_checker.py:233: UserWarning: \u001b[33mWARN: Future gym versions will require that `Env.reset` can be passed `options` to allow the environment initialisation to be passed additional information.\u001b[0m\n",
      "  logger.warn(\n"
     ]
    },
    {
     "name": "stdout",
     "output_type": "stream",
     "text": [
      "info: {'total_reward': 446.4516270000005, 'total_profit': 0.00048215521487885777, 'position': 1}\n"
     ]
    },
    {
     "data": {
      "image/png": "[encoded data removed]",
      "text/plain": [
       "<Figure size 432x288 with 1 Axes>"
      ]
     },
     "metadata": {
      "needs_background": "light"
     },
     "output_type": "display_data"
    }
   ],
   "source": [
    "task = Task(**TASKS[0])\n",
    "observation = task.env.reset()\n",
    "\n",
    "while True:\n",
    "    action = task.env.action_space.sample()\n",
    "    observation, reward, done, info = task.env.step(action)\n",
    "\n",
    "    if done:\n",
    "        print(\"info:\", info)\n",
    "        break\n",
    "\n",
    "plt.cla()\n",
    "task.env.render_all()\n",
    "plt.show()"
   ]
  },
  {
   "cell_type": "code",
   "execution_count": null,
   "metadata": {},
   "outputs": [],
   "source": [
    "for task_data in TASKS:\n",
    "    for repeat in range(1):\n",
    "        task = Task(**task_data, version=repeat + 1)\n",
    "\n",
    "        wandb.init(\n",
    "            project=WANDB_PROJECT,\n",
    "            dir=WANDB_LOG_DIR,\n",
    "            group=task.name,\n",
    "            job_type=\"Policy-Train\",\n",
    "            name=task.save_model_name,\n",
    "            sync_tensorboard=True,\n",
    "            reinit=True,\n",
    "            monitor_gym=True,\n",
    "            config={\n",
    "                \"train/repeat_count\": 1,\n",
    "            }\n",
    "        )\n",
    "\n",
    "        logger = WandbLogger()\n",
    "        logger.load(SummaryWriter(WANDB_TENSORBOARD))\n",
    "        trainer = DQNTrainer(task, logger=logger)\n",
    "        result = trainer.run()\n",
    "\n",
    "        print(\"Finished repeat {}. Time taken: {:.4}s\".format(repeat + 1, result[\"duration\"]))\n"
   ]
  }
 ],
 "metadata": {
  "kernelspec": {
   "display_name": "Python 3 (ipykernel)",
   "language": "python",
   "name": "python3"
  },
  "language_info": {
   "codemirror_mode": {
    "name": "ipython",
    "version": 3
   },
   "file_extension": ".py",
   "mimetype": "text/x-python",
   "name": "python",
   "nbconvert_exporter": "python",
   "pygments_lexer": "ipython3",
   "version": "3.9.6"
  },
  "vscode": {
   "interpreter": {
    "hash": "33431a34c2fc9292c5ffdbeed9358857b48cb59106e4a69bd1d3c3cefbd11921"
   }
  }
 },
 "nbformat": 4,
 "nbformat_minor": 2
}
